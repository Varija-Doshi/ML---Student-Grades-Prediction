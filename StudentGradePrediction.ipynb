{
  "nbformat": 4,
  "nbformat_minor": 0,
  "metadata": {
    "colab": {
      "name": "StudentGradePrediction.ipynb",
      "provenance": [],
      "collapsed_sections": [],
      "mount_file_id": "1G55PzIceRa_xK6Z2difnUT95MDGVygU1",
      "authorship_tag": "ABX9TyNWcLfiydo/nFjXdpGXFSio",
      "include_colab_link": true
    },
    "kernelspec": {
      "name": "python3",
      "display_name": "Python 3"
    },
    "language_info": {
      "name": "python"
    }
  },
  "cells": [
    {
      "cell_type": "markdown",
      "metadata": {
        "id": "view-in-github",
        "colab_type": "text"
      },
      "source": [
        "<a href=\"https://colab.research.google.com/github/Varija-Doshi/ML---Student-Grades-Prediction/blob/main/StudentGradePrediction.ipynb\" target=\"_parent\"><img src=\"https://colab.research.google.com/assets/colab-badge.svg\" alt=\"Open In Colab\"/></a>"
      ]
    },
    {
      "cell_type": "code",
      "metadata": {
        "id": "GDd1oJ0NYQba",
        "colab": {
          "base_uri": "https://localhost:8080/"
        },
        "outputId": "f7ed555f-4544-487d-d18b-54d2842a5a30"
      },
      "source": [
        "import numpy as np\n",
        "import pandas as pd\n",
        "from sklearn.metrics import mean_squared_error, r2_score\n",
        "from sklearn import linear_model\n",
        "from sklearn.utils import shuffle \n",
        "from sklearn.model_selection import train_test_split\n",
        "from sklearn.metrics import mean_squared_error, r2_score,mean_absolute_error, max_error\n"
      ],
      "execution_count": null,
      "outputs": [
        {
          "output_type": "stream",
          "text": [
            "Drive already mounted at /content/drive; to attempt to forcibly remount, call drive.mount(\"/content/drive\", force_remount=True).\n"
          ],
          "name": "stdout"
        }
      ]
    },
    {
      "cell_type": "code",
      "metadata": {
        "id": "Osc_2i8VwiWZ"
      },
      "source": [
        "from google.colab import drive\n",
        "drive.mount('/content/drive')"
      ],
      "execution_count": null,
      "outputs": []
    },
    {
      "cell_type": "code",
      "metadata": {
        "id": "DmyXriNDZsNl"
      },
      "source": [
        "data = pd.read_csv(\"drive/MyDrive/Data/student-mat.csv\", sep=\";\")\n",
        "# Since our data is seperated by semicolons we need to do sep=\";\"\n",
        "# data contains about 396 rows , ie training set size = m = 396"
      ],
      "execution_count": null,
      "outputs": []
    },
    {
      "cell_type": "code",
      "metadata": {
        "id": "cxlkOLyeZuNn",
        "colab": {
          "base_uri": "https://localhost:8080/"
        },
        "outputId": "8060ab40-4eae-499a-87a2-73618f819757"
      },
      "source": [
        "print(data.head())\n",
        "# To see the data of first 5 students"
      ],
      "execution_count": null,
      "outputs": [
        {
          "output_type": "stream",
          "text": [
            "  school sex  age address famsize Pstatus  ...  Walc  health absences  G1  G2  G3\n",
            "0     GP   F   18       U     GT3       A  ...     1       3        6   5   6   6\n",
            "1     GP   F   17       U     GT3       T  ...     1       3        4   5   5   6\n",
            "2     GP   F   15       U     LE3       T  ...     3       3       10   7   8  10\n",
            "3     GP   F   15       U     GT3       T  ...     1       5        2  15  14  15\n",
            "4     GP   F   16       U     GT3       T  ...     2       5        4   6  10  10\n",
            "\n",
            "[5 rows x 33 columns]\n"
          ],
          "name": "stdout"
        }
      ]
    },
    {
      "cell_type": "code",
      "metadata": {
        "id": "7vOdFRiTaI1u"
      },
      "source": [
        "# Taking only relevant features\n",
        "\n",
        "data = data[[\"G1\", \"G2\", \"G3\", \"studytime\", \"failures\", \"absences\"]]"
      ],
      "execution_count": null,
      "outputs": []
    },
    {
      "cell_type": "code",
      "metadata": {
        "id": "U1Wf04kCaZ1e"
      },
      "source": [
        "# considering we have to predict the G3 values \n",
        "\n",
        "predict = \"G3\"\n",
        "# drop the column from the original data set and make a new array of column type (axis = 1)\n",
        "X = np.array(data.drop([predict], 1)) # Features\n",
        "y = np.array(data[predict]) # Labels"
      ],
      "execution_count": null,
      "outputs": []
    },
    {
      "cell_type": "code",
      "metadata": {
        "id": "CLWVQkqldJHZ"
      },
      "source": [
        "# splits the data in test and train data sets train = 70% and test = 30 %\n",
        "\n",
        "x_train, x_test, y_train, y_test = train_test_split(X, y, test_size = 0.3)"
      ],
      "execution_count": null,
      "outputs": []
    },
    {
      "cell_type": "code",
      "metadata": {
        "id": "0O-OlHp9dqhv"
      },
      "source": [
        "# Choosing the model from linear model\n",
        "model = linear_model.LinearRegression()"
      ],
      "execution_count": null,
      "outputs": []
    },
    {
      "cell_type": "code",
      "metadata": {
        "id": "5xpD7ev8d5wi",
        "colab": {
          "base_uri": "https://localhost:8080/"
        },
        "outputId": "f23f110f-f4ca-455c-be9a-4e41f4ed5fe1"
      },
      "source": [
        "# fit the data \n",
        "model.fit(x_train, y_train)\n",
        "acc = model.score(x_test, y_test) # acc stands for accuracy \n",
        "print(acc)\n",
        "\n",
        "# y predicted\n",
        "y_pred = model.predict(x_test)\n",
        "\n",
        "# mean square error\n",
        "print('Mean squared error:', mean_squared_error(y_test, np.around(y_pred)))\n",
        "\n",
        "#acuracy score\n",
        "print('Absolute error:', mean_absolute_error(y_test, np.around(y_pred)))\n",
        "\n",
        "print('Max error:', max_error(y_test, np.around(y_pred)))"
      ],
      "execution_count": null,
      "outputs": [
        {
          "output_type": "stream",
          "text": [
            "0.8076801471911124\n",
            "Mean squared error: 4.714285714285714\n",
            "Absolute error 1.319327731092437\n",
            "Max error 9.0\n"
          ],
          "name": "stdout"
        }
      ]
    },
    {
      "cell_type": "code",
      "metadata": {
        "id": "Gls8BrdHfD4I"
      },
      "source": [
        "print('Coefficient: \\n', model.coef_) # These are each slope value\n",
        "print('Intercept: \\n', model.intercept_) # This is the intercept\n",
        "\n",
        "#showing the predictions made by the model \n",
        "\n",
        "\n",
        "\n",
        "for x in range(len(predictions)):\n",
        "    print(predictions[x], x_test[x], y_test[x])"
      ],
      "execution_count": null,
      "outputs": []
    }
  ]
}