{
  "nbformat": 4,
  "nbformat_minor": 0,
  "metadata": {
    "colab": {
      "name": "StudentGradePrediction.ipynb",
      "provenance": [],
      "collapsed_sections": [],
      "mount_file_id": "1G55PzIceRa_xK6Z2difnUT95MDGVygU1",
      "authorship_tag": "ABX9TyOIcEOYLs2X7ipUX/V0TRZS",
      "include_colab_link": true
    },
    "kernelspec": {
      "name": "python3",
      "display_name": "Python 3"
    },
    "language_info": {
      "name": "python"
    }
  },
  "cells": [
    {
      "cell_type": "markdown",
      "metadata": {
        "id": "view-in-github",
        "colab_type": "text"
      },
      "source": [
        "<a href=\"https://colab.research.google.com/github/Varija-Doshi/ML---Student-Grades-Prediction/blob/main/StudentGradePrediction.ipynb\" target=\"_parent\"><img src=\"https://colab.research.google.com/assets/colab-badge.svg\" alt=\"Open In Colab\"/></a>"
      ]
    },
    {
      "cell_type": "code",
      "metadata": {
        "id": "GDd1oJ0NYQba"
      },
      "source": [
        "import numpy as np\n",
        "import pandas as pd\n",
        "from sklearn import metrics\n",
        "from sklearn.metrics import mean_squared_error, r2_score\n",
        "from sklearn import linear_model\n",
        "from sklearn.utils import shuffle \n",
        "from sklearn.model_selection import train_test_split\n",
        "from sklearn.metrics import mean_squared_error, r2_score,mean_absolute_error, max_error\n",
        "import matplotlib.pyplot as plt "
      ],
      "execution_count": 18,
      "outputs": []
    },
    {
      "cell_type": "code",
      "metadata": {
        "id": "Osc_2i8VwiWZ",
        "colab": {
          "base_uri": "https://localhost:8080/"
        },
        "outputId": "ade59bd1-8994-47f9-e6c0-dbc4e23ee80c"
      },
      "source": [
        "from google.colab import drive\n",
        "drive.mount('/content/drive')"
      ],
      "execution_count": 3,
      "outputs": [
        {
          "output_type": "stream",
          "name": "stdout",
          "text": [
            "Mounted at /content/drive\n"
          ]
        }
      ]
    },
    {
      "cell_type": "code",
      "metadata": {
        "id": "DmyXriNDZsNl"
      },
      "source": [
        "data = pd.read_csv(\"drive/MyDrive/Data/student-mat.csv\", sep=\";\")\n",
        "# Since our data is seperated by semicolons we need to do sep=\";\"\n",
        "# data contains about 396 rows , ie training set size = m = 396"
      ],
      "execution_count": 99,
      "outputs": []
    },
    {
      "cell_type": "code",
      "metadata": {
        "id": "cxlkOLyeZuNn",
        "colab": {
          "base_uri": "https://localhost:8080/"
        },
        "outputId": "aad878ec-2932-4fee-fb87-60676a8471ab"
      },
      "source": [
        "print(data.head())\n",
        "# To see the data of first 5 students"
      ],
      "execution_count": 100,
      "outputs": [
        {
          "output_type": "stream",
          "name": "stdout",
          "text": [
            "  school sex  age address famsize Pstatus  ...  Walc  health absences  G1  G2  G3\n",
            "0     GP   F   18       U     GT3       A  ...     1       3        6   5   6   6\n",
            "1     GP   F   17       U     GT3       T  ...     1       3        4   5   5   6\n",
            "2     GP   F   15       U     LE3       T  ...     3       3       10   7   8  10\n",
            "3     GP   F   15       U     GT3       T  ...     1       5        2  15  14  15\n",
            "4     GP   F   16       U     GT3       T  ...     2       5        4   6  10  10\n",
            "\n",
            "[5 rows x 33 columns]\n"
          ]
        }
      ]
    },
    {
      "cell_type": "code",
      "metadata": {
        "id": "W-ItP4VIAXF1",
        "outputId": "1845bc2a-a172-4b54-8d15-3b14fbdf6346",
        "colab": {
          "base_uri": "https://localhost:8080/"
        }
      },
      "source": [
        "print(data.dtypes)"
      ],
      "execution_count": 101,
      "outputs": [
        {
          "output_type": "stream",
          "name": "stdout",
          "text": [
            "school        object\n",
            "sex           object\n",
            "age            int64\n",
            "address       object\n",
            "famsize       object\n",
            "Pstatus       object\n",
            "Medu           int64\n",
            "Fedu           int64\n",
            "Mjob          object\n",
            "Fjob          object\n",
            "reason        object\n",
            "guardian      object\n",
            "traveltime     int64\n",
            "studytime      int64\n",
            "failures       int64\n",
            "schoolsup     object\n",
            "famsup        object\n",
            "paid          object\n",
            "activities    object\n",
            "nursery       object\n",
            "higher        object\n",
            "internet      object\n",
            "romantic      object\n",
            "famrel         int64\n",
            "freetime       int64\n",
            "goout          int64\n",
            "Dalc           int64\n",
            "Walc           int64\n",
            "health         int64\n",
            "absences       int64\n",
            "G1             int64\n",
            "G2             int64\n",
            "G3             int64\n",
            "dtype: object\n"
          ]
        }
      ]
    },
    {
      "cell_type": "code",
      "metadata": {
        "id": "Vx9yJrya-7Rk",
        "outputId": "28717532-096e-4f8c-f91c-9c6fca5b56fd",
        "colab": {
          "base_uri": "https://localhost:8080/",
          "height": 315
        }
      },
      "source": [
        "data.describe()"
      ],
      "execution_count": 102,
      "outputs": [
        {
          "output_type": "execute_result",
          "data": {
            "text/html": [
              "<div>\n",
              "<style scoped>\n",
              "    .dataframe tbody tr th:only-of-type {\n",
              "        vertical-align: middle;\n",
              "    }\n",
              "\n",
              "    .dataframe tbody tr th {\n",
              "        vertical-align: top;\n",
              "    }\n",
              "\n",
              "    .dataframe thead th {\n",
              "        text-align: right;\n",
              "    }\n",
              "</style>\n",
              "<table border=\"1\" class=\"dataframe\">\n",
              "  <thead>\n",
              "    <tr style=\"text-align: right;\">\n",
              "      <th></th>\n",
              "      <th>age</th>\n",
              "      <th>Medu</th>\n",
              "      <th>Fedu</th>\n",
              "      <th>traveltime</th>\n",
              "      <th>studytime</th>\n",
              "      <th>failures</th>\n",
              "      <th>famrel</th>\n",
              "      <th>freetime</th>\n",
              "      <th>goout</th>\n",
              "      <th>Dalc</th>\n",
              "      <th>Walc</th>\n",
              "      <th>health</th>\n",
              "      <th>absences</th>\n",
              "      <th>G1</th>\n",
              "      <th>G2</th>\n",
              "      <th>G3</th>\n",
              "    </tr>\n",
              "  </thead>\n",
              "  <tbody>\n",
              "    <tr>\n",
              "      <th>count</th>\n",
              "      <td>395.000000</td>\n",
              "      <td>395.000000</td>\n",
              "      <td>395.000000</td>\n",
              "      <td>395.000000</td>\n",
              "      <td>395.000000</td>\n",
              "      <td>395.000000</td>\n",
              "      <td>395.000000</td>\n",
              "      <td>395.000000</td>\n",
              "      <td>395.000000</td>\n",
              "      <td>395.000000</td>\n",
              "      <td>395.000000</td>\n",
              "      <td>395.000000</td>\n",
              "      <td>395.000000</td>\n",
              "      <td>395.000000</td>\n",
              "      <td>395.000000</td>\n",
              "      <td>395.000000</td>\n",
              "    </tr>\n",
              "    <tr>\n",
              "      <th>mean</th>\n",
              "      <td>16.696203</td>\n",
              "      <td>2.749367</td>\n",
              "      <td>2.521519</td>\n",
              "      <td>1.448101</td>\n",
              "      <td>2.035443</td>\n",
              "      <td>0.334177</td>\n",
              "      <td>3.944304</td>\n",
              "      <td>3.235443</td>\n",
              "      <td>3.108861</td>\n",
              "      <td>1.481013</td>\n",
              "      <td>2.291139</td>\n",
              "      <td>3.554430</td>\n",
              "      <td>5.708861</td>\n",
              "      <td>10.908861</td>\n",
              "      <td>10.713924</td>\n",
              "      <td>10.415190</td>\n",
              "    </tr>\n",
              "    <tr>\n",
              "      <th>std</th>\n",
              "      <td>1.276043</td>\n",
              "      <td>1.094735</td>\n",
              "      <td>1.088201</td>\n",
              "      <td>0.697505</td>\n",
              "      <td>0.839240</td>\n",
              "      <td>0.743651</td>\n",
              "      <td>0.896659</td>\n",
              "      <td>0.998862</td>\n",
              "      <td>1.113278</td>\n",
              "      <td>0.890741</td>\n",
              "      <td>1.287897</td>\n",
              "      <td>1.390303</td>\n",
              "      <td>8.003096</td>\n",
              "      <td>3.319195</td>\n",
              "      <td>3.761505</td>\n",
              "      <td>4.581443</td>\n",
              "    </tr>\n",
              "    <tr>\n",
              "      <th>min</th>\n",
              "      <td>15.000000</td>\n",
              "      <td>0.000000</td>\n",
              "      <td>0.000000</td>\n",
              "      <td>1.000000</td>\n",
              "      <td>1.000000</td>\n",
              "      <td>0.000000</td>\n",
              "      <td>1.000000</td>\n",
              "      <td>1.000000</td>\n",
              "      <td>1.000000</td>\n",
              "      <td>1.000000</td>\n",
              "      <td>1.000000</td>\n",
              "      <td>1.000000</td>\n",
              "      <td>0.000000</td>\n",
              "      <td>3.000000</td>\n",
              "      <td>0.000000</td>\n",
              "      <td>0.000000</td>\n",
              "    </tr>\n",
              "    <tr>\n",
              "      <th>25%</th>\n",
              "      <td>16.000000</td>\n",
              "      <td>2.000000</td>\n",
              "      <td>2.000000</td>\n",
              "      <td>1.000000</td>\n",
              "      <td>1.000000</td>\n",
              "      <td>0.000000</td>\n",
              "      <td>4.000000</td>\n",
              "      <td>3.000000</td>\n",
              "      <td>2.000000</td>\n",
              "      <td>1.000000</td>\n",
              "      <td>1.000000</td>\n",
              "      <td>3.000000</td>\n",
              "      <td>0.000000</td>\n",
              "      <td>8.000000</td>\n",
              "      <td>9.000000</td>\n",
              "      <td>8.000000</td>\n",
              "    </tr>\n",
              "    <tr>\n",
              "      <th>50%</th>\n",
              "      <td>17.000000</td>\n",
              "      <td>3.000000</td>\n",
              "      <td>2.000000</td>\n",
              "      <td>1.000000</td>\n",
              "      <td>2.000000</td>\n",
              "      <td>0.000000</td>\n",
              "      <td>4.000000</td>\n",
              "      <td>3.000000</td>\n",
              "      <td>3.000000</td>\n",
              "      <td>1.000000</td>\n",
              "      <td>2.000000</td>\n",
              "      <td>4.000000</td>\n",
              "      <td>4.000000</td>\n",
              "      <td>11.000000</td>\n",
              "      <td>11.000000</td>\n",
              "      <td>11.000000</td>\n",
              "    </tr>\n",
              "    <tr>\n",
              "      <th>75%</th>\n",
              "      <td>18.000000</td>\n",
              "      <td>4.000000</td>\n",
              "      <td>3.000000</td>\n",
              "      <td>2.000000</td>\n",
              "      <td>2.000000</td>\n",
              "      <td>0.000000</td>\n",
              "      <td>5.000000</td>\n",
              "      <td>4.000000</td>\n",
              "      <td>4.000000</td>\n",
              "      <td>2.000000</td>\n",
              "      <td>3.000000</td>\n",
              "      <td>5.000000</td>\n",
              "      <td>8.000000</td>\n",
              "      <td>13.000000</td>\n",
              "      <td>13.000000</td>\n",
              "      <td>14.000000</td>\n",
              "    </tr>\n",
              "    <tr>\n",
              "      <th>max</th>\n",
              "      <td>22.000000</td>\n",
              "      <td>4.000000</td>\n",
              "      <td>4.000000</td>\n",
              "      <td>4.000000</td>\n",
              "      <td>4.000000</td>\n",
              "      <td>3.000000</td>\n",
              "      <td>5.000000</td>\n",
              "      <td>5.000000</td>\n",
              "      <td>5.000000</td>\n",
              "      <td>5.000000</td>\n",
              "      <td>5.000000</td>\n",
              "      <td>5.000000</td>\n",
              "      <td>75.000000</td>\n",
              "      <td>19.000000</td>\n",
              "      <td>19.000000</td>\n",
              "      <td>20.000000</td>\n",
              "    </tr>\n",
              "  </tbody>\n",
              "</table>\n",
              "</div>"
            ],
            "text/plain": [
              "              age        Medu        Fedu  ...          G1          G2          G3\n",
              "count  395.000000  395.000000  395.000000  ...  395.000000  395.000000  395.000000\n",
              "mean    16.696203    2.749367    2.521519  ...   10.908861   10.713924   10.415190\n",
              "std      1.276043    1.094735    1.088201  ...    3.319195    3.761505    4.581443\n",
              "min     15.000000    0.000000    0.000000  ...    3.000000    0.000000    0.000000\n",
              "25%     16.000000    2.000000    2.000000  ...    8.000000    9.000000    8.000000\n",
              "50%     17.000000    3.000000    2.000000  ...   11.000000   11.000000   11.000000\n",
              "75%     18.000000    4.000000    3.000000  ...   13.000000   13.000000   14.000000\n",
              "max     22.000000    4.000000    4.000000  ...   19.000000   19.000000   20.000000\n",
              "\n",
              "[8 rows x 16 columns]"
            ]
          },
          "metadata": {},
          "execution_count": 102
        }
      ]
    },
    {
      "cell_type": "code",
      "metadata": {
        "id": "7vOdFRiTaI1u"
      },
      "source": [
        "# Taking only relevant features\n",
        "\n",
        "data = data[[\"G1\", \"G2\", \"G3\", \"studytime\", \"failures\", \"absences\"]]"
      ],
      "execution_count": 103,
      "outputs": []
    },
    {
      "cell_type": "code",
      "metadata": {
        "id": "U1Wf04kCaZ1e",
        "outputId": "9877ff5a-4bb9-405e-9c38-b48453db6cb9",
        "colab": {
          "base_uri": "https://localhost:8080/"
        }
      },
      "source": [
        "# considering we have to predict the G3 values \n",
        "predict_data = data[\"G3\"]\n",
        "predict = \"G3\"\n",
        "# drop the column from the original data set and make a new array of column type (axis = 1)\n",
        "X = np.array(data.drop([predict], 1)) # Features\n",
        "y = np.array(data[predict]) # Labels\n",
        "\n",
        "data = data.drop([\"G3\"],1)\n",
        "data.head()\n",
        "predict_data.head()"
      ],
      "execution_count": 104,
      "outputs": [
        {
          "output_type": "execute_result",
          "data": {
            "text/plain": [
              "0     6\n",
              "1     6\n",
              "2    10\n",
              "3    15\n",
              "4    10\n",
              "Name: G3, dtype: int64"
            ]
          },
          "metadata": {},
          "execution_count": 104
        }
      ]
    },
    {
      "cell_type": "code",
      "metadata": {
        "id": "rV_YuHatWB3n"
      },
      "source": [
        "def plot_corr(df, size=11):\n",
        "    \"\"\" \n",
        "    Function plots a graphical correlation matrix for each pair of columns in the dataframe.\n",
        "\n",
        "    Input:\n",
        "        df: pandas DataFrame\n",
        "        size: vertical and horizontal size of the plot\n",
        "\n",
        "    Displays:\n",
        "        matrix of correlation between columns.  Blue-cyan-yellow-red-darkred => less to more correlated\n",
        "                                                0 ------------------>  1\n",
        "                                                Expect a darkred line running from top left to bottom right\n",
        "    \"\"\"\n",
        "    \n",
        "    \n",
        "    corr = df.corr()  #data frame correlation function \n",
        "    fig, ax = plt.subplots(figsize = (size, size))\n",
        "    ax.matshow(corr)   # color code the rectangles by correlation values\n",
        "    plt.xticks(range(len(corr.columns)), corr.columns)  # draw x tick marks\n",
        "    plt.yticks(range(len(corr.columns)), corr.columns)  # draw y tick marks"
      ],
      "execution_count": 105,
      "outputs": []
    },
    {
      "cell_type": "code",
      "metadata": {
        "id": "pk92Jtm-WDRv",
        "colab": {
          "base_uri": "https://localhost:8080/",
          "height": 649
        },
        "outputId": "bdfe5a0a-dc5b-4ae5-fef7-5548cfd50144"
      },
      "source": [
        "plot_corr(data)"
      ],
      "execution_count": 106,
      "outputs": [
        {
          "output_type": "display_data",
          "data": {
            "image/png": "[encoded data removed]",
            "text/plain": [
              "<Figure size 792x792 with 1 Axes>"
            ]
          },
          "metadata": {
            "needs_background": "light"
          }
        }
      ]
    },
    {
      "cell_type": "code",
      "metadata": {
        "id": "XSH3pKxHWtyL",
        "colab": {
          "base_uri": "https://localhost:8080/",
          "height": 203
        },
        "outputId": "22910f09-eeee-44b8-d49e-b29aa24dd9e7"
      },
      "source": [
        "data.corr()"
      ],
      "execution_count": 107,
      "outputs": [
        {
          "output_type": "execute_result",
          "data": {
            "text/html": [
              "<div>\n",
              "<style scoped>\n",
              "    .dataframe tbody tr th:only-of-type {\n",
              "        vertical-align: middle;\n",
              "    }\n",
              "\n",
              "    .dataframe tbody tr th {\n",
              "        vertical-align: top;\n",
              "    }\n",
              "\n",
              "    .dataframe thead th {\n",
              "        text-align: right;\n",
              "    }\n",
              "</style>\n",
              "<table border=\"1\" class=\"dataframe\">\n",
              "  <thead>\n",
              "    <tr style=\"text-align: right;\">\n",
              "      <th></th>\n",
              "      <th>G1</th>\n",
              "      <th>G2</th>\n",
              "      <th>studytime</th>\n",
              "      <th>failures</th>\n",
              "      <th>absences</th>\n",
              "    </tr>\n",
              "  </thead>\n",
              "  <tbody>\n",
              "    <tr>\n",
              "      <th>G1</th>\n",
              "      <td>1.000000</td>\n",
              "      <td>0.852118</td>\n",
              "      <td>0.160612</td>\n",
              "      <td>-0.354718</td>\n",
              "      <td>-0.031003</td>\n",
              "    </tr>\n",
              "    <tr>\n",
              "      <th>G2</th>\n",
              "      <td>0.852118</td>\n",
              "      <td>1.000000</td>\n",
              "      <td>0.135880</td>\n",
              "      <td>-0.355896</td>\n",
              "      <td>-0.031777</td>\n",
              "    </tr>\n",
              "    <tr>\n",
              "      <th>studytime</th>\n",
              "      <td>0.160612</td>\n",
              "      <td>0.135880</td>\n",
              "      <td>1.000000</td>\n",
              "      <td>-0.173563</td>\n",
              "      <td>-0.062700</td>\n",
              "    </tr>\n",
              "    <tr>\n",
              "      <th>failures</th>\n",
              "      <td>-0.354718</td>\n",
              "      <td>-0.355896</td>\n",
              "      <td>-0.173563</td>\n",
              "      <td>1.000000</td>\n",
              "      <td>0.063726</td>\n",
              "    </tr>\n",
              "    <tr>\n",
              "      <th>absences</th>\n",
              "      <td>-0.031003</td>\n",
              "      <td>-0.031777</td>\n",
              "      <td>-0.062700</td>\n",
              "      <td>0.063726</td>\n",
              "      <td>1.000000</td>\n",
              "    </tr>\n",
              "  </tbody>\n",
              "</table>\n",
              "</div>"
            ],
            "text/plain": [
              "                 G1        G2  studytime  failures  absences\n",
              "G1         1.000000  0.852118   0.160612 -0.354718 -0.031003\n",
              "G2         0.852118  1.000000   0.135880 -0.355896 -0.031777\n",
              "studytime  0.160612  0.135880   1.000000 -0.173563 -0.062700\n",
              "failures  -0.354718 -0.355896  -0.173563  1.000000  0.063726\n",
              "absences  -0.031003 -0.031777  -0.062700  0.063726  1.000000"
            ]
          },
          "metadata": {},
          "execution_count": 107
        }
      ]
    },
    {
      "cell_type": "code",
      "metadata": {
        "id": "Z7mtlODt2chm",
        "outputId": "aca9a396-6542-48a5-db8e-3936a9879949",
        "colab": {
          "base_uri": "https://localhost:8080/",
          "height": 838
        }
      },
      "source": [
        "from pandas.plotting import radviz\n",
        "\n",
        "\n",
        "fig, ax = plt.subplots(figsize=(12, 12))\n",
        "new_df = data\n",
        "new_df[\"status\"] = predict_data\n",
        "new_df = new_df.astype({\"status\":int})\n",
        "print(new_df.dtypes)\n",
        "radviz(new_df,\"status\", ax=ax, colormap=\"rocket\")\n",
        "plt.title('Radial Visualization', fontsize = 20)\n",
        "plt.show()"
      ],
      "execution_count": 108,
      "outputs": [
        {
          "output_type": "stream",
          "name": "stdout",
          "text": [
            "G1           int64\n",
            "G2           int64\n",
            "studytime    int64\n",
            "failures     int64\n",
            "absences     int64\n",
            "status       int64\n",
            "dtype: object\n"
          ]
        },
        {
          "output_type": "display_data",
          "data": {
            "image/png": "[encoded data removed]",
            "text/plain": [
              "<Figure size 864x864 with 1 Axes>"
            ]
          },
          "metadata": {
            "needs_background": "light"
          }
        }
      ]
    },
    {
      "cell_type": "code",
      "metadata": {
        "id": "CLWVQkqldJHZ"
      },
      "source": [
        "# splits the data in test and train data sets train = 70% and test = 30 %\n",
        "\n",
        "x_train, x_test, y_train, y_test = train_test_split(X, y, test_size = 0.3)"
      ],
      "execution_count": 109,
      "outputs": []
    },
    {
      "cell_type": "code",
      "metadata": {
        "id": "0O-OlHp9dqhv"
      },
      "source": [
        "# Choosing the model from linear model\n",
        "model = linear_model.LinearRegression()"
      ],
      "execution_count": 110,
      "outputs": []
    },
    {
      "cell_type": "markdown",
      "metadata": {
        "id": "ontKxB8BW14i"
      },
      "source": [
        "###  Training model and Test error"
      ]
    },
    {
      "cell_type": "code",
      "metadata": {
        "id": "5xpD7ev8d5wi",
        "colab": {
          "base_uri": "https://localhost:8080/"
        },
        "outputId": "423fe3b3-0adb-4988-b242-685473a7c52e"
      },
      "source": [
        "# fit the data \n",
        "model.fit(x_train, y_train)\n",
        "acc = model.score(x_test, y_test) # acc stands for accuracy \n",
        "print(acc)\n",
        "\n",
        "# y predicted\n",
        "y_pred = model.predict(x_test)\n",
        "\n",
        "# mean square error\n",
        "print('Mean squared error:', mean_squared_error(y_test, np.around(y_pred)))\n",
        "\n",
        "#acuracy score\n",
        "print('Absolute error:', mean_absolute_error(y_test, np.around(y_pred)))\n",
        "\n",
        "print('Max error:', max_error(y_test, np.around(y_pred)))\n",
        "\n",
        "print(\"Accuracy on the test data :{0:.4f}\".format(acc*100))"
      ],
      "execution_count": 111,
      "outputs": [
        {
          "output_type": "stream",
          "name": "stdout",
          "text": [
            "0.8223004944906187\n",
            "Mean squared error: 2.9411764705882355\n",
            "Absolute error: 0.9411764705882353\n",
            "Max error: 8.0\n",
            "Accuracy on the test data :82.2300\n"
          ]
        }
      ]
    },
    {
      "cell_type": "markdown",
      "metadata": {
        "id": "Rx-h53UGWxxX"
      },
      "source": [
        "### Training error "
      ]
    },
    {
      "cell_type": "code",
      "metadata": {
        "id": "koSMAmCoWwgI",
        "outputId": "6f8713f3-919c-40c7-bf38-0afbcd31a667",
        "colab": {
          "base_uri": "https://localhost:8080/"
        }
      },
      "source": [
        "acc_train = model.score(x_train, y_train) \n",
        "# Accuracy\n",
        "print(\"Accuracy on the training data: {0:.4f}\".format(acc_train*100))"
      ],
      "execution_count": 112,
      "outputs": [
        {
          "output_type": "stream",
          "name": "stdout",
          "text": [
            "Accuracy on the training data: 82.9526\n"
          ]
        }
      ]
    },
    {
      "cell_type": "markdown",
      "metadata": {
        "id": "vJjIQIRpYM3I"
      },
      "source": [
        "### Confusion matrix and Classification Report"
      ]
    },
    {
      "cell_type": "code",
      "metadata": {
        "id": "vGOSL4UHYMBR",
        "outputId": "0a843f52-05e7-4dc6-ab6a-2724a250fc6d",
        "colab": {
          "base_uri": "https://localhost:8080/",
          "height": 538
        }
      },
      "source": [
        "import seaborn as sns\n",
        "\n",
        "print(\"Confusion Matrix\")\n",
        "cm = metrics.confusion_matrix(y_test,np.around(y_pred) )\n",
        "print(\"\")\n",
        "# printing the confusion matrix\n",
        "plt.rcParams['figure.figsize'] = (8, 8)\n",
        "sns.heatmap(cm, annot = True, cmap = 'Reds')\n",
        "plt.title('Confusion Matrix for Random Forest', fontweight = 30, fontsize = 20)\n",
        "plt.show()\n",
        "\n",
        "#print(\"Classification Report\")\n",
        "#print(metrics.classification_report(y_test, np.around(y_pred) ))"
      ],
      "execution_count": 113,
      "outputs": [
        {
          "output_type": "stream",
          "name": "stdout",
          "text": [
            "Confusion Matrix\n",
            "\n"
          ]
        },
        {
          "output_type": "display_data",
          "data": {
            "image/png": "[encoded data removed]",
            "text/plain": [
              "<Figure size 576x576 with 2 Axes>"
            ]
          },
          "metadata": {
            "needs_background": "light"
          }
        }
      ]
    },
    {
      "cell_type": "code",
      "metadata": {
        "id": "Mnm4RoFU7dS7",
        "outputId": "b73f1668-9886-43e1-b82d-78222bcd8289",
        "colab": {
          "base_uri": "https://localhost:8080/"
        }
      },
      "source": [
        "print(X)\n",
        "      "
      ],
      "execution_count": 114,
      "outputs": [
        {
          "output_type": "stream",
          "name": "stdout",
          "text": [
            "[[ 5  6  2  0  6]\n",
            " [ 5  5  2  0  4]\n",
            " [ 7  8  2  3 10]\n",
            " ...\n",
            " [10  8  1  3  3]\n",
            " [11 12  1  0  0]\n",
            " [ 8  9  1  0  5]]\n"
          ]
        }
      ]
    },
    {
      "cell_type": "markdown",
      "metadata": {
        "id": "rru6bQrjCQWc"
      },
      "source": [
        " Therefore we can see that there is more correlation with G2 with G3 "
      ]
    },
    {
      "cell_type": "code",
      "metadata": {
        "id": "Gls8BrdHfD4I",
        "outputId": "76ef2547-54df-41f3-fee7-c7fb70be487e",
        "colab": {
          "base_uri": "https://localhost:8080/"
        }
      },
      "source": [
        "print('Coefficient: \\n', model.coef_) # These are each slope value\n",
        "print('Intercept: \\n', model.intercept_) # This is the intercept\n",
        "\n",
        "#showing the predictions made by the model \n",
        "\n",
        "for x in range(len(y_pred)):\n",
        "    print(np.around(y_pred[x]) )\n",
        "    #print(np.around(y_pred[x]), x_test[x], y_test[x])"
      ],
      "execution_count": 115,
      "outputs": [
        {
          "output_type": "stream",
          "name": "stdout",
          "text": [
            "Coefficient: \n",
            " [ 0.16471137  0.9700275  -0.11069699 -0.21338267  0.03135843]\n",
            "Intercept: \n",
            " -1.6938546415960367\n",
            "7.0\n",
            "9.0\n",
            "6.0\n",
            "15.0\n",
            "11.0\n",
            "9.0\n",
            "12.0\n",
            "10.0\n",
            "13.0\n",
            "15.0\n",
            "12.0\n",
            "11.0\n",
            "10.0\n",
            "6.0\n",
            "19.0\n",
            "16.0\n",
            "3.0\n",
            "15.0\n",
            "11.0\n",
            "9.0\n",
            "9.0\n",
            "7.0\n",
            "16.0\n",
            "10.0\n",
            "8.0\n",
            "19.0\n",
            "9.0\n",
            "14.0\n",
            "16.0\n",
            "9.0\n",
            "13.0\n",
            "10.0\n",
            "4.0\n",
            "13.0\n",
            "13.0\n",
            "8.0\n",
            "16.0\n",
            "7.0\n",
            "11.0\n",
            "12.0\n",
            "15.0\n",
            "15.0\n",
            "12.0\n",
            "7.0\n",
            "11.0\n",
            "15.0\n",
            "10.0\n",
            "15.0\n",
            "5.0\n",
            "5.0\n",
            "9.0\n",
            "10.0\n",
            "12.0\n",
            "16.0\n",
            "8.0\n",
            "10.0\n",
            "14.0\n",
            "10.0\n",
            "12.0\n",
            "8.0\n",
            "8.0\n",
            "13.0\n",
            "11.0\n",
            "13.0\n",
            "-1.0\n",
            "11.0\n",
            "7.0\n",
            "16.0\n",
            "12.0\n",
            "16.0\n",
            "15.0\n",
            "13.0\n",
            "11.0\n",
            "10.0\n",
            "8.0\n",
            "10.0\n",
            "7.0\n",
            "10.0\n",
            "5.0\n",
            "16.0\n",
            "6.0\n",
            "8.0\n",
            "11.0\n",
            "14.0\n",
            "13.0\n",
            "14.0\n",
            "15.0\n",
            "16.0\n",
            "16.0\n",
            "9.0\n",
            "13.0\n",
            "18.0\n",
            "10.0\n",
            "9.0\n",
            "4.0\n",
            "11.0\n",
            "-1.0\n",
            "8.0\n",
            "8.0\n",
            "11.0\n",
            "11.0\n",
            "12.0\n",
            "8.0\n",
            "10.0\n",
            "9.0\n",
            "9.0\n",
            "10.0\n",
            "15.0\n",
            "4.0\n",
            "7.0\n",
            "13.0\n",
            "6.0\n",
            "14.0\n",
            "12.0\n",
            "8.0\n",
            "15.0\n",
            "11.0\n",
            "5.0\n",
            "9.0\n"
          ]
        }
      ]
    }
  ]
}