{
  "nbformat": 4,
  "nbformat_minor": 0,
  "metadata": {
    "colab": {
      "name": "StudentGradePrediction.ipynb",
      "provenance": [],
      "collapsed_sections": [],
      "mount_file_id": "1G55PzIceRa_xK6Z2difnUT95MDGVygU1",
      "authorship_tag": "ABX9TyMF2pnbo82et50d4XxCFVqN",
      "include_colab_link": true
    },
    "kernelspec": {
      "name": "python3",
      "display_name": "Python 3"
    },
    "language_info": {
      "name": "python"
    }
  },
  "cells": [
    {
      "cell_type": "markdown",
      "metadata": {
        "id": "view-in-github",
        "colab_type": "text"
      },
      "source": [
        "<a href=\"https://colab.research.google.com/github/Varija-Doshi/ML---Student-Grades-Prediction/blob/main/StudentGradePrediction.ipynb\" target=\"_parent\"><img src=\"https://colab.research.google.com/assets/colab-badge.svg\" alt=\"Open In Colab\"/></a>"
      ]
    },
    {
      "cell_type": "code",
      "metadata": {
        "id": "GDd1oJ0NYQba"
      },
      "source": [
        "import numpy as np\n",
        "import pandas as pd\n",
        "from sklearn.metrics import mean_squared_error, r2_score\n",
        "from sklearn import linear_model\n",
        "from sklearn.utils import shuffle \n",
        "from sklearn.model_selection import train_test_split\n",
        "from sklearn.metrics import mean_squared_error, r2_score,mean_absolute_error, max_error\n",
        "import matplotlib.pyplot as plt "
      ],
      "execution_count": 8,
      "outputs": []
    },
    {
      "cell_type": "code",
      "metadata": {
        "id": "Osc_2i8VwiWZ",
        "outputId": "c90bbe88-aa11-4eff-9634-2122f42db7a4",
        "colab": {
          "base_uri": "https://localhost:8080/"
        }
      },
      "source": [
        "from google.colab import drive\n",
        "drive.mount('/content/drive')"
      ],
      "execution_count": 2,
      "outputs": [
        {
          "output_type": "stream",
          "name": "stdout",
          "text": [
            "Mounted at /content/drive\n"
          ]
        }
      ]
    },
    {
      "cell_type": "code",
      "metadata": {
        "id": "DmyXriNDZsNl"
      },
      "source": [
        "data = pd.read_csv(\"drive/MyDrive/Data/student-mat.csv\", sep=\";\")\n",
        "# Since our data is seperated by semicolons we need to do sep=\";\"\n",
        "# data contains about 396 rows , ie training set size = m = 396"
      ],
      "execution_count": 3,
      "outputs": []
    },
    {
      "cell_type": "code",
      "metadata": {
        "id": "cxlkOLyeZuNn",
        "colab": {
          "base_uri": "https://localhost:8080/"
        },
        "outputId": "8495c059-d116-4549-cefe-d675a91945ea"
      },
      "source": [
        "print(data.head())\n",
        "# To see the data of first 5 students"
      ],
      "execution_count": 4,
      "outputs": [
        {
          "output_type": "stream",
          "name": "stdout",
          "text": [
            "  school sex  age address famsize Pstatus  ...  Walc  health absences  G1  G2  G3\n",
            "0     GP   F   18       U     GT3       A  ...     1       3        6   5   6   6\n",
            "1     GP   F   17       U     GT3       T  ...     1       3        4   5   5   6\n",
            "2     GP   F   15       U     LE3       T  ...     3       3       10   7   8  10\n",
            "3     GP   F   15       U     GT3       T  ...     1       5        2  15  14  15\n",
            "4     GP   F   16       U     GT3       T  ...     2       5        4   6  10  10\n",
            "\n",
            "[5 rows x 33 columns]\n"
          ]
        }
      ]
    },
    {
      "cell_type": "code",
      "metadata": {
        "id": "7vOdFRiTaI1u"
      },
      "source": [
        "# Taking only relevant features\n",
        "\n",
        "data = data[[\"G1\", \"G2\", \"G3\", \"studytime\", \"failures\", \"absences\"]]"
      ],
      "execution_count": 5,
      "outputs": []
    },
    {
      "cell_type": "code",
      "metadata": {
        "id": "U1Wf04kCaZ1e"
      },
      "source": [
        "# considering we have to predict the G3 values \n",
        "\n",
        "predict = \"G3\"\n",
        "# drop the column from the original data set and make a new array of column type (axis = 1)\n",
        "X = np.array(data.drop([predict], 1)) # Features\n",
        "y = np.array(data[predict]) # Labels"
      ],
      "execution_count": 12,
      "outputs": []
    },
    {
      "cell_type": "code",
      "metadata": {
        "id": "rV_YuHatWB3n"
      },
      "source": [
        "def plot_corr(df, size=11):\n",
        "    \"\"\" \n",
        "    Function plots a graphical correlation matrix for each pair of columns in the dataframe.\n",
        "\n",
        "    Input:\n",
        "        df: pandas DataFrame\n",
        "        size: vertical and horizontal size of the plot\n",
        "\n",
        "    Displays:\n",
        "        matrix of correlation between columns.  Blue-cyan-yellow-red-darkred => less to more correlated\n",
        "                                                0 ------------------>  1\n",
        "                                                Expect a darkred line running from top left to bottom right\n",
        "    \"\"\"\n",
        "    \n",
        "    \n",
        "    corr = df.corr()  #data frame correlation function \n",
        "    fig, ax = plt.subplots(figsize = (size, size))\n",
        "    ax.matshow(corr)   # color code the rectangles by correlation values\n",
        "    plt.xticks(range(len(corr.columns)), corr.columns)  # draw x tick marks\n",
        "    plt.yticks(range(len(corr.columns)), corr.columns)  # draw y tick marks"
      ],
      "execution_count": 9,
      "outputs": []
    },
    {
      "cell_type": "code",
      "metadata": {
        "id": "pk92Jtm-WDRv",
        "outputId": "2fec250c-b0a8-4b18-ee98-f2f24739423a",
        "colab": {
          "base_uri": "https://localhost:8080/",
          "height": 649
        }
      },
      "source": [
        "plot_corr(data)"
      ],
      "execution_count": 15,
      "outputs": [
        {
          "output_type": "display_data",
          "data": {
            "image/png": "[encoded data removed]",
            "text/plain": [
              "<Figure size 792x792 with 1 Axes>"
            ]
          },
          "metadata": {
            "needs_background": "light"
          }
        }
      ]
    },
    {
      "cell_type": "code",
      "metadata": {
        "id": "XSH3pKxHWtyL",
        "outputId": "19638a7c-9447-4739-c785-bc02eb5130a8",
        "colab": {
          "base_uri": "https://localhost:8080/",
          "height": 234
        }
      },
      "source": [
        "data.corr()"
      ],
      "execution_count": 14,
      "outputs": [
        {
          "output_type": "execute_result",
          "data": {
            "text/html": [
              "<div>\n",
              "<style scoped>\n",
              "    .dataframe tbody tr th:only-of-type {\n",
              "        vertical-align: middle;\n",
              "    }\n",
              "\n",
              "    .dataframe tbody tr th {\n",
              "        vertical-align: top;\n",
              "    }\n",
              "\n",
              "    .dataframe thead th {\n",
              "        text-align: right;\n",
              "    }\n",
              "</style>\n",
              "<table border=\"1\" class=\"dataframe\">\n",
              "  <thead>\n",
              "    <tr style=\"text-align: right;\">\n",
              "      <th></th>\n",
              "      <th>G1</th>\n",
              "      <th>G2</th>\n",
              "      <th>G3</th>\n",
              "      <th>studytime</th>\n",
              "      <th>failures</th>\n",
              "      <th>absences</th>\n",
              "    </tr>\n",
              "  </thead>\n",
              "  <tbody>\n",
              "    <tr>\n",
              "      <th>G1</th>\n",
              "      <td>1.000000</td>\n",
              "      <td>0.852118</td>\n",
              "      <td>0.801468</td>\n",
              "      <td>0.160612</td>\n",
              "      <td>-0.354718</td>\n",
              "      <td>-0.031003</td>\n",
              "    </tr>\n",
              "    <tr>\n",
              "      <th>G2</th>\n",
              "      <td>0.852118</td>\n",
              "      <td>1.000000</td>\n",
              "      <td>0.904868</td>\n",
              "      <td>0.135880</td>\n",
              "      <td>-0.355896</td>\n",
              "      <td>-0.031777</td>\n",
              "    </tr>\n",
              "    <tr>\n",
              "      <th>G3</th>\n",
              "      <td>0.801468</td>\n",
              "      <td>0.904868</td>\n",
              "      <td>1.000000</td>\n",
              "      <td>0.097820</td>\n",
              "      <td>-0.360415</td>\n",
              "      <td>0.034247</td>\n",
              "    </tr>\n",
              "    <tr>\n",
              "      <th>studytime</th>\n",
              "      <td>0.160612</td>\n",
              "      <td>0.135880</td>\n",
              "      <td>0.097820</td>\n",
              "      <td>1.000000</td>\n",
              "      <td>-0.173563</td>\n",
              "      <td>-0.062700</td>\n",
              "    </tr>\n",
              "    <tr>\n",
              "      <th>failures</th>\n",
              "      <td>-0.354718</td>\n",
              "      <td>-0.355896</td>\n",
              "      <td>-0.360415</td>\n",
              "      <td>-0.173563</td>\n",
              "      <td>1.000000</td>\n",
              "      <td>0.063726</td>\n",
              "    </tr>\n",
              "    <tr>\n",
              "      <th>absences</th>\n",
              "      <td>-0.031003</td>\n",
              "      <td>-0.031777</td>\n",
              "      <td>0.034247</td>\n",
              "      <td>-0.062700</td>\n",
              "      <td>0.063726</td>\n",
              "      <td>1.000000</td>\n",
              "    </tr>\n",
              "  </tbody>\n",
              "</table>\n",
              "</div>"
            ],
            "text/plain": [
              "                 G1        G2        G3  studytime  failures  absences\n",
              "G1         1.000000  0.852118  0.801468   0.160612 -0.354718 -0.031003\n",
              "G2         0.852118  1.000000  0.904868   0.135880 -0.355896 -0.031777\n",
              "G3         0.801468  0.904868  1.000000   0.097820 -0.360415  0.034247\n",
              "studytime  0.160612  0.135880  0.097820   1.000000 -0.173563 -0.062700\n",
              "failures  -0.354718 -0.355896 -0.360415  -0.173563  1.000000  0.063726\n",
              "absences  -0.031003 -0.031777  0.034247  -0.062700  0.063726  1.000000"
            ]
          },
          "metadata": {},
          "execution_count": 14
        }
      ]
    },
    {
      "cell_type": "code",
      "metadata": {
        "id": "CLWVQkqldJHZ"
      },
      "source": [
        "# splits the data in test and train data sets train = 70% and test = 30 %\n",
        "\n",
        "x_train, x_test, y_train, y_test = train_test_split(X, y, test_size = 0.3)"
      ],
      "execution_count": null,
      "outputs": []
    },
    {
      "cell_type": "code",
      "metadata": {
        "id": "0O-OlHp9dqhv"
      },
      "source": [
        "# Choosing the model from linear model\n",
        "model = linear_model.LinearRegression()"
      ],
      "execution_count": null,
      "outputs": []
    },
    {
      "cell_type": "code",
      "metadata": {
        "id": "5xpD7ev8d5wi",
        "colab": {
          "base_uri": "https://localhost:8080/"
        },
        "outputId": "f23f110f-f4ca-455c-be9a-4e41f4ed5fe1"
      },
      "source": [
        "# fit the data \n",
        "model.fit(x_train, y_train)\n",
        "acc = model.score(x_test, y_test) # acc stands for accuracy \n",
        "print(acc)\n",
        "\n",
        "# y predicted\n",
        "y_pred = model.predict(x_test)\n",
        "\n",
        "# mean square error\n",
        "print('Mean squared error:', mean_squared_error(y_test, np.around(y_pred)))\n",
        "\n",
        "#acuracy score\n",
        "print('Absolute error:', mean_absolute_error(y_test, np.around(y_pred)))\n",
        "\n",
        "print('Max error:', max_error(y_test, np.around(y_pred)))"
      ],
      "execution_count": null,
      "outputs": [
        {
          "output_type": "stream",
          "text": [
            "0.8076801471911124\n",
            "Mean squared error: 4.714285714285714\n",
            "Absolute error 1.319327731092437\n",
            "Max error 9.0\n"
          ],
          "name": "stdout"
        }
      ]
    },
    {
      "cell_type": "code",
      "metadata": {
        "id": "Gls8BrdHfD4I"
      },
      "source": [
        "print('Coefficient: \\n', model.coef_) # These are each slope value\n",
        "print('Intercept: \\n', model.intercept_) # This is the intercept\n",
        "\n",
        "#showing the predictions made by the model \n",
        "\n",
        "\n",
        "\n",
        "for x in range(len(predictions)):\n",
        "    print(predictions[x], x_test[x], y_test[x])"
      ],
      "execution_count": null,
      "outputs": []
    }
  ]
}